{
  "nbformat": 4,
  "nbformat_minor": 0,
  "metadata": {
    "colab": {
      "provenance": [],
      "authorship_tag": "ABX9TyMhcZvNv0K+6B9UZz9zZN4S",
      "include_colab_link": true
    },
    "kernelspec": {
      "name": "python3",
      "display_name": "Python 3"
    },
    "language_info": {
      "name": "python"
    }
  },
  "cells": [
    {
      "cell_type": "markdown",
      "metadata": {
        "id": "view-in-github",
        "colab_type": "text"
      },
      "source": [
        "<a href=\"https://colab.research.google.com/github/Amleth7/Talleres-Fundamentos-Python/blob/main/Ejercicio9.ipynb\" target=\"_parent\"><img src=\"https://colab.research.google.com/assets/colab-badge.svg\" alt=\"Open In Colab\"/></a>"
      ]
    },
    {
      "cell_type": "code",
      "execution_count": 1,
      "metadata": {
        "colab": {
          "base_uri": "https://localhost:8080/"
        },
        "id": "vDr0ZTJs9M_D",
        "outputId": "7b1cf279-0da7-400e-f614-9ce96abc802f"
      },
      "outputs": [
        {
          "output_type": "stream",
          "name": "stdout",
          "text": [
            "Ingresa una frase: Atletico Nacional\n",
            "Ingresa un carácter específico: a\n",
            "Frase sin vocales: \n",
            "Se encontró el carácter 'a' en la frase.\n"
          ]
        }
      ],
      "source": [
        "# Alejandro Marin\n",
        "# Daniel Buelvas\n",
        "frase = input(\"Ingresa una frase: \")\n",
        "\n",
        "\n",
        "frase = frase.lower()\n",
        "\n",
        "\n",
        "encontrado = False\n",
        "\n",
        "while not encontrado:\n",
        "\n",
        "    caracter = input(\"Ingresa un carácter específico: \")\n",
        "\n",
        "\n",
        "    caracter = caracter.lower()\n",
        "\n",
        "\n",
        "    frase_sin_vocales = \"\"\n",
        "\n",
        "\n",
        "    for i in range(len(frase)):\n",
        "        if frase[i] == caracter:\n",
        "            encontrado = True\n",
        "            break  #\n",
        "        elif frase[i] not in \"aeiouáéíóú\":\n",
        "            frase_sin_vocales += frase[i]\n",
        "\n",
        "\n",
        "    print(f\"Frase sin vocales: {frase_sin_vocales}\")\n",
        "\n",
        "\n",
        "if encontrado:\n",
        "    print(f\"Se encontró el carácter '{caracter}' en la frase.\")\n",
        "else:\n",
        "    print(f\"No se encontró el carácter '{caracter}' en la frase.\")"
      ]
    }
  ]
}