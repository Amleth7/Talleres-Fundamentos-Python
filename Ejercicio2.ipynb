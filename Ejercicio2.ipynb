{
  "nbformat": 4,
  "nbformat_minor": 0,
  "metadata": {
    "colab": {
      "provenance": [],
      "authorship_tag": "ABX9TyPe4sEsj6kc5JQAw00p+MHn",
      "include_colab_link": true
    },
    "kernelspec": {
      "name": "python3",
      "display_name": "Python 3"
    },
    "language_info": {
      "name": "python"
    }
  },
  "cells": [
    {
      "cell_type": "markdown",
      "metadata": {
        "id": "view-in-github",
        "colab_type": "text"
      },
      "source": [
        "<a href=\"https://colab.research.google.com/github/Amleth7/Talleres-Fundamentos-Python/blob/main/Ejercicio2.ipynb\" target=\"_parent\"><img src=\"https://colab.research.google.com/assets/colab-badge.svg\" alt=\"Open In Colab\"/></a>"
      ]
    },
    {
      "cell_type": "code",
      "execution_count": 6,
      "metadata": {
        "colab": {
          "base_uri": "https://localhost:8080/"
        },
        "id": "dZ61WAC9BwQ9",
        "outputId": "747a0b5f-8055-487a-9b2c-774de9bd9133"
      },
      "outputs": [
        {
          "output_type": "stream",
          "name": "stdout",
          "text": [
            "Ingrese un número entero: 5\n",
            "El número 5 es impar\n"
          ]
        }
      ],
      "source": [
        "#Alejandro Marin\n",
        "#Daniel Buelvas\n",
        "def main():\n",
        "    try:\n",
        "        numero = int(input(\"Ingrese un número entero: \"))\n",
        "        if numero % 2 == 0:\n",
        "            print(f\"El número {numero} es par\")\n",
        "        else:\n",
        "            print(f\"El número {numero} es impar\")\n",
        "    except ValueError:\n",
        "        print(\"Error: Ingrese un número entero válido.\")\n",
        "\n",
        "if __name__ == \"__main__\":\n",
        "    main()"
      ]
    },
    {
      "cell_type": "code",
      "source": [],
      "metadata": {
        "id": "82M9xpMNB4am"
      },
      "execution_count": null,
      "outputs": []
    }
  ]
}