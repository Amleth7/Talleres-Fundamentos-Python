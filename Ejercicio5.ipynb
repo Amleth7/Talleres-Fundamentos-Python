{
  "nbformat": 4,
  "nbformat_minor": 0,
  "metadata": {
    "colab": {
      "provenance": [],
      "authorship_tag": "ABX9TyNPzknFLVP06a7kvzLfpeTF",
      "include_colab_link": true
    },
    "kernelspec": {
      "name": "python3",
      "display_name": "Python 3"
    },
    "language_info": {
      "name": "python"
    }
  },
  "cells": [
    {
      "cell_type": "markdown",
      "metadata": {
        "id": "view-in-github",
        "colab_type": "text"
      },
      "source": [
        "<a href=\"https://colab.research.google.com/github/Amleth7/Talleres-Fundamentos-Python/blob/main/Ejercicio5.ipynb\" target=\"_parent\"><img src=\"https://colab.research.google.com/assets/colab-badge.svg\" alt=\"Open In Colab\"/></a>"
      ]
    },
    {
      "cell_type": "code",
      "execution_count": 1,
      "metadata": {
        "colab": {
          "base_uri": "https://localhost:8080/"
        },
        "id": "EIoedneZ9khl",
        "outputId": "70a1364e-23c6-48c4-c44a-c9c39c0c834a"
      },
      "outputs": [
        {
          "output_type": "stream",
          "name": "stdout",
          "text": [
            "0 1 1 2 3 5 8 13 21 34 55 89 144 233 377 610 987 1597 "
          ]
        }
      ],
      "source": [
        "#Alejandro Marin\n",
        "#Daniel Buelvas\n",
        "a, b = 0, 1\n",
        "while a <= 1597:\n",
        "    print(a, end=\" \")\n",
        "    a, b = b, a + b\n"
      ]
    }
  ]
}