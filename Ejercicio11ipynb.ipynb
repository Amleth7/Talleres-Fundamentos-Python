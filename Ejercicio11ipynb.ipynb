{
  "nbformat": 4,
  "nbformat_minor": 0,
  "metadata": {
    "colab": {
      "provenance": [],
      "authorship_tag": "ABX9TyNFIuMCH2hMLVaj0MXDU8TQ",
      "include_colab_link": true
    },
    "kernelspec": {
      "name": "python3",
      "display_name": "Python 3"
    },
    "language_info": {
      "name": "python"
    }
  },
  "cells": [
    {
      "cell_type": "markdown",
      "metadata": {
        "id": "view-in-github",
        "colab_type": "text"
      },
      "source": [
        "<a href=\"https://colab.research.google.com/github/Amleth7/Talleres-Fundamentos-Python/blob/main/Ejercicio11ipynb.ipynb\" target=\"_parent\"><img src=\"https://colab.research.google.com/assets/colab-badge.svg\" alt=\"Open In Colab\"/></a>"
      ]
    },
    {
      "cell_type": "code",
      "execution_count": 3,
      "metadata": {
        "colab": {
          "base_uri": "https://localhost:8080/"
        },
        "id": "_KOoqQaOAUuv",
        "outputId": "5c310f39-917a-4e8f-94c1-cf6055b89c3d"
      },
      "outputs": [
        {
          "output_type": "stream",
          "name": "stdout",
          "text": [
            "Ingrese el elemento que desea eliminar: e\n",
            "La lista resultante es: ['A', 'B', 'b', 'c', 'f']\n"
          ]
        }
      ],
      "source": [
        "# Alejandro Marin\n",
        "# Daniel Buelvas\n",
        "lista = [\"A\", \"B\", \"b\", \"c\", \"E\", \"E\", \"f\"]\n",
        "\n",
        "elemento_a_eliminar = input(\"Ingrese el elemento que desea eliminar: \").lower()\n",
        "\n",
        "\n",
        "nueva_lista = [elemento for elemento in lista if elemento.lower() != elemento_a_eliminar]\n",
        "\n",
        "\n",
        "if len(nueva_lista) == len(lista):\n",
        "    print(f\"'{elemento_a_eliminar}' no se encontraba en la lista.\")\n",
        "else:\n",
        "    print(f\"La lista resultante es: {nueva_lista}\")\n"
      ]
    }
  ]
}