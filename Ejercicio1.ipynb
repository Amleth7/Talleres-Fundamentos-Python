{
  "nbformat": 4,
  "nbformat_minor": 0,
  "metadata": {
    "colab": {
      "provenance": [],
      "authorship_tag": "ABX9TyOrNqimeZXlGBQ2OFXI0wj9",
      "include_colab_link": true
    },
    "kernelspec": {
      "name": "python3",
      "display_name": "Python 3"
    },
    "language_info": {
      "name": "python"
    }
  },
  "cells": [
    {
      "cell_type": "markdown",
      "metadata": {
        "id": "view-in-github",
        "colab_type": "text"
      },
      "source": [
        "<a href=\"https://colab.research.google.com/github/Amleth7/Talleres-Fundamentos-Python/blob/main/Ejercicio1.ipynb\" target=\"_parent\"><img src=\"https://colab.research.google.com/assets/colab-badge.svg\" alt=\"Open In Colab\"/></a>"
      ]
    },
    {
      "cell_type": "code",
      "execution_count": 4,
      "metadata": {
        "colab": {
          "base_uri": "https://localhost:8080/"
        },
        "id": "DvqjBZsF51GT",
        "outputId": "c031f04e-bb3a-4278-f2ac-5f77f8c0aee5"
      },
      "outputs": [
        {
          "output_type": "stream",
          "name": "stdout",
          "text": [
            "Sistema de vacaciones.\n",
            "¿Cual es su nombre?: Alejandro\n",
            "¿Cual es su clave de departamento?: 2\n",
            "¿Cuantos año/s lleva trabajando en la empresa?: 2\n",
            "Señor/a Alejandro del departamento de \"Logística\", usted tiene 15 dias de vacaciones disponibles\n"
          ]
        }
      ],
      "source": [
        "#Daniel Buelvas\n",
        "#Alejandro Marin\n",
        "\n",
        "print(\"Sistema de vacaciones.\")\n",
        "Nombre=input(\"¿Cual es su nombre?: \")\n",
        "Departamento=int(input(\"¿Cual es su clave de departamento?: \"))\n",
        "Antiguedad=int(input(\"¿Cuantos año/s lleva trabajando en la empresa?: \"))\n",
        "if Departamento == 1:\n",
        "  if Antiguedad == 1:\n",
        "    print('Señor/a', Nombre, 'del departamento de \"Atención al cliente\", usted tiene 6 dias de vacaciones disponibles')\n",
        "  elif Antiguedad in range(2,6):\n",
        "    print('Señor/a', Nombre, 'del departamento de \"Atención al cliente\", usted tiene 14 dias de vacaciones disponibles')\n",
        "  elif Antiguedad >=7:\n",
        "    print('Señor/a', Nombre, 'del departamento de \"Atención al cliente\", usted tiene 20 dias de vacaciones disponibles')\n",
        "if Departamento == 2:\n",
        "  if Antiguedad == 1:\n",
        "    print('Señor/a', Nombre, 'del departamento de \"Logística\", usted tiene 7 dias de vacaciones disponibles')\n",
        "  elif Antiguedad in range(2,6):\n",
        "    print('Señor/a', Nombre, 'del departamento de \"Logística\", usted tiene 15 dias de vacaciones disponibles')\n",
        "  elif Antiguedad >= 7:\n",
        "    print('Señor/a', Nombre, 'del departamento de \"Logística\", usted tiene 22 dias de vacaciones disponibles')\n",
        "if Departamento == 3:\n",
        "  if Antiguedad ==1:\n",
        "    print('Señor/a', Nombre, 'del departamento de \"Gerencia\", usted tiene 10 dias de vacaciones disponibles')\n",
        "  elif Antiguedad in range(2,6):\n",
        "    print('Señor/a', Nombre, 'del departamento de \"Gerencia\", usted tiene 20 dias de vacaciones disponibles')\n",
        "  elif Antiguedad >=7:\n",
        "    print('Señor/a', Nombre, 'del departamento de \"Gerencia\", usted tiene 30 dias de vacaciones disponibles')"
      ]
    }
  ]
}