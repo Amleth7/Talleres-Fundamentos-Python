{
  "nbformat": 4,
  "nbformat_minor": 0,
  "metadata": {
    "colab": {
      "provenance": [],
      "authorship_tag": "ABX9TyOiGhzJxSNAUfaPxwQzUxpo",
      "include_colab_link": true
    },
    "kernelspec": {
      "name": "python3",
      "display_name": "Python 3"
    },
    "language_info": {
      "name": "python"
    }
  },
  "cells": [
    {
      "cell_type": "markdown",
      "metadata": {
        "id": "view-in-github",
        "colab_type": "text"
      },
      "source": [
        "<a href=\"https://colab.research.google.com/github/Amleth7/Talleres-Fundamentos-Python/blob/main/ejercicio10.ipynb\" target=\"_parent\"><img src=\"https://colab.research.google.com/assets/colab-badge.svg\" alt=\"Open In Colab\"/></a>"
      ]
    },
    {
      "cell_type": "code",
      "execution_count": 2,
      "metadata": {
        "colab": {
          "base_uri": "https://localhost:8080/"
        },
        "id": "_46QP1ZM-4Ud",
        "outputId": "8c537e9c-ba7b-427a-e1c7-469138071078"
      },
      "outputs": [
        {
          "output_type": "stream",
          "name": "stdout",
          "text": [
            "Ingrese la longitud de la lista: 2\n",
            "Ingrese el elemento 1: 3\n",
            "Ingrese el elemento 2: 2\n",
            "La lista ingresada es: [3, 2]\n",
            "La suma de los elementos en la lista es: 5\n"
          ]
        }
      ],
      "source": [
        "#Alejandro Marin\n",
        "#Daniel Buelvas\n",
        "longitud = int(input(\"Ingrese la longitud de la lista: \"))\n",
        "\n",
        "\n",
        "lista_enteros = []\n",
        "\n",
        "for i in range(longitud):\n",
        "    while True:\n",
        "        try:\n",
        "            elemento = int(input(f\"Ingrese el elemento {i + 1}: \"))\n",
        "            lista_enteros.append(elemento)\n",
        "            break\n",
        "        except ValueError:\n",
        "            print(\"Error: Ingrese un número entero válido.\")\n",
        "\n",
        "\n",
        "print(\"La lista ingresada es:\", lista_enteros)\n",
        "\n",
        "suma = sum(lista_enteros)\n",
        "\n",
        "print(\"La suma de los elementos en la lista es:\", suma)\n"
      ]
    }
  ]
}