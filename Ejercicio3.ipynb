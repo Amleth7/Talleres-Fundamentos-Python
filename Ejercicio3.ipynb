{
  "nbformat": 4,
  "nbformat_minor": 0,
  "metadata": {
    "colab": {
      "provenance": [],
      "authorship_tag": "ABX9TyO2CrjIiDC0k4Nx/nGIjMUe",
      "include_colab_link": true
    },
    "kernelspec": {
      "name": "python3",
      "display_name": "Python 3"
    },
    "language_info": {
      "name": "python"
    }
  },
  "cells": [
    {
      "cell_type": "markdown",
      "metadata": {
        "id": "view-in-github",
        "colab_type": "text"
      },
      "source": [
        "<a href=\"https://colab.research.google.com/github/Amleth7/Talleres-Fundamentos-Python/blob/main/Ejercicio3.ipynb\" target=\"_parent\"><img src=\"https://colab.research.google.com/assets/colab-badge.svg\" alt=\"Open In Colab\"/></a>"
      ]
    },
    {
      "cell_type": "code",
      "execution_count": 2,
      "metadata": {
        "colab": {
          "base_uri": "https://localhost:8080/"
        },
        "id": "DqHCW8E46yw9",
        "outputId": "d555dc04-9de6-403d-955e-e239bb970ced"
      },
      "outputs": [
        {
          "output_type": "stream",
          "name": "stdout",
          "text": [
            "Introduce el primer número: 2561\n",
            "Introduce el segundo número: 2314521\n",
            "Introduce el tercer número: 326584\n",
            "El Numero 2314521 es el más grande.\n"
          ]
        }
      ],
      "source": [
        "#Alejandro Marin\n",
        "#Daniel Buelvas\n",
        "num1 = int(input(\"Introduce el primer número: \"))\n",
        "num2 = int(input(\"Introduce el segundo número: \"))\n",
        "num3 = int(input(\"Introduce el tercer número: \"))\n",
        "\n",
        "if num1 >= num2 and num1 >= num3:\n",
        "    print(\"El Numero\", num1 , \"es el más grande.\")\n",
        "elif num2 >= num1 and num2 >= num3:\n",
        "    print(\"El Numero\", num2 , \"es el más grande.\")\n",
        "else:\n",
        "    print(\"El Numero\", num3 , \"es el más grande.\")"
      ]
    }
  ]
}