{
  "nbformat": 4,
  "nbformat_minor": 0,
  "metadata": {
    "colab": {
      "provenance": [],
      "authorship_tag": "ABX9TyP1EPvuwYT9rbyeX385e2qf",
      "include_colab_link": true
    },
    "kernelspec": {
      "name": "python3",
      "display_name": "Python 3"
    },
    "language_info": {
      "name": "python"
    }
  },
  "cells": [
    {
      "cell_type": "markdown",
      "metadata": {
        "id": "view-in-github",
        "colab_type": "text"
      },
      "source": [
        "<a href=\"https://colab.research.google.com/github/Amleth7/Talleres-Fundamentos-Python/blob/main/Ejercicio13.ipynb\" target=\"_parent\"><img src=\"https://colab.research.google.com/assets/colab-badge.svg\" alt=\"Open In Colab\"/></a>"
      ]
    },
    {
      "cell_type": "code",
      "execution_count": 4,
      "metadata": {
        "colab": {
          "base_uri": "https://localhost:8080/"
        },
        "id": "x_LFC0QyB0Rs",
        "outputId": "812352c5-6d19-49ed-b971-cb5757b8e6dc"
      },
      "outputs": [
        {
          "output_type": "stream",
          "name": "stdout",
          "text": [
            "Ingrese la cantidad de filas: 2\n",
            "Ingrese la cantidad de columnas: 2\n",
            "Ingrese el valor en la posición [1][1]: 1\n",
            "Ingrese el valor en la posición [1][2]: 2\n",
            "Ingrese el valor en la posición [2][1]: 2\n",
            "Ingrese el valor en la posición [2][2]: 1\n",
            "Matriz resultante:\n",
            "1\t2\t\n",
            "2\t1\t\n"
          ]
        }
      ],
      "source": [
        "# Alejandro Marin\n",
        "# Daniel Buelvas\n",
        "filas = int(input(\"Ingrese la cantidad de filas: \"))\n",
        "columnas = int(input(\"Ingrese la cantidad de columnas: \"))\n",
        "\n",
        "matriz = []\n",
        "\n",
        "for i in range(filas):\n",
        "    fila = []\n",
        "    for j in range(columnas):\n",
        "        valor = int(input(f\"Ingrese el valor en la posición [{i+1}][{j+1}]: \"))\n",
        "        fila.append(valor)\n",
        "    matriz.append(fila)\n",
        "\n",
        "\n",
        "print(\"Matriz resultante:\")\n",
        "for fila in matriz:\n",
        "    for valor in fila:\n",
        "        print(valor, end=\"\\t\")\n",
        "    print()\n"
      ]
    }
  ]
}