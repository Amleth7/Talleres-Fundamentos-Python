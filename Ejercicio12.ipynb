{
  "nbformat": 4,
  "nbformat_minor": 0,
  "metadata": {
    "colab": {
      "provenance": [],
      "authorship_tag": "ABX9TyO+gXTTxCRUOWkYJWeX+/UI",
      "include_colab_link": true
    },
    "kernelspec": {
      "name": "python3",
      "display_name": "Python 3"
    },
    "language_info": {
      "name": "python"
    }
  },
  "cells": [
    {
      "cell_type": "markdown",
      "metadata": {
        "id": "view-in-github",
        "colab_type": "text"
      },
      "source": [
        "<a href=\"https://colab.research.google.com/github/Amleth7/Talleres-Fundamentos-Python/blob/main/Ejercicio12.ipynb\" target=\"_parent\"><img src=\"https://colab.research.google.com/assets/colab-badge.svg\" alt=\"Open In Colab\"/></a>"
      ]
    },
    {
      "cell_type": "code",
      "execution_count": 1,
      "metadata": {
        "colab": {
          "base_uri": "https://localhost:8080/"
        },
        "id": "CCM1BtCMBCKD",
        "outputId": "3fc72144-8cc8-4460-826e-d3d8382f07af"
      },
      "outputs": [
        {
          "output_type": "stream",
          "name": "stdout",
          "text": [
            "Lista de elementos no eliminados: [2, 3, 4]\n",
            "Lista de elementos eliminados: [1, 5]\n"
          ]
        }
      ],
      "source": [
        "# Alejandro Marin\n",
        "# Daniel Buelvas\n",
        "numeros = [1, 2, 3, 4, 5]\n",
        "\n",
        "\n",
        "if len(numeros) >= 2:\n",
        "\n",
        "    primer_elemento_eliminado = numeros.pop(0)\n",
        "    ultimo_elemento_eliminado = numeros.pop(-1)\n",
        "\n",
        "\n",
        "    elementos_no_eliminados = numeros\n",
        "    elementos_eliminados = [primer_elemento_eliminado, ultimo_elemento_eliminado]\n",
        "\n",
        "    print(\"Lista de elementos no eliminados:\", elementos_no_eliminados)\n",
        "    print(\"Lista de elementos eliminados:\", elementos_eliminados)\n",
        "else:\n",
        "    print(\"La lista no tiene al menos dos elementos, no se pueden eliminar elementos.\")\n"
      ]
    }
  ]
}