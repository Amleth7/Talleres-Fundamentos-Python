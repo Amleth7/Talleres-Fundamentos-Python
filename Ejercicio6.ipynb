{
  "nbformat": 4,
  "nbformat_minor": 0,
  "metadata": {
    "colab": {
      "provenance": [],
      "authorship_tag": "ABX9TyN+erHMLIpHN8IrSidTrgn1",
      "include_colab_link": true
    },
    "kernelspec": {
      "name": "python3",
      "display_name": "Python 3"
    },
    "language_info": {
      "name": "python"
    }
  },
  "cells": [
    {
      "cell_type": "markdown",
      "metadata": {
        "id": "view-in-github",
        "colab_type": "text"
      },
      "source": [
        "<a href=\"https://colab.research.google.com/github/Amleth7/Talleres-Fundamentos-Python/blob/main/Ejercicio6.ipynb\" target=\"_parent\"><img src=\"https://colab.research.google.com/assets/colab-badge.svg\" alt=\"Open In Colab\"/></a>"
      ]
    },
    {
      "cell_type": "code",
      "execution_count": 1,
      "metadata": {
        "colab": {
          "base_uri": "https://localhost:8080/"
        },
        "id": "8bEPiDvjGddT",
        "outputId": "7d9cbc2d-53f4-48b2-f934-1bfd65413045"
      },
      "outputs": [
        {
          "output_type": "stream",
          "name": "stdout",
          "text": [
            "Ingrese la cadena de caracteres: Buenos dias clase!\n",
            "Ingrese la palabra a eliminar: clase!\n",
            "Cadena resultante: Buenos dias \n"
          ]
        }
      ],
      "source": [
        "#Alejandro Marin\n",
        "#Daniel Buelvas\n",
        "\n",
        "cadena = input(\"Ingrese la cadena de caracteres: \")\n",
        "\n",
        "palabra_a_eliminar = input(\"Ingrese la palabra a eliminar: \")\n",
        "\n",
        "nueva_cadena = cadena.replace(palabra_a_eliminar, '')\n",
        "\n",
        "print(\"Cadena resultante:\", nueva_cadena)"
      ]
    }
  ]
}