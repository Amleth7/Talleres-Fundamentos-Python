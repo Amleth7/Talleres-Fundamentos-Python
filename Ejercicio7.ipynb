{
  "nbformat": 4,
  "nbformat_minor": 0,
  "metadata": {
    "colab": {
      "provenance": [],
      "authorship_tag": "ABX9TyP/4OFkyJTS8j3f0lM88ic5",
      "include_colab_link": true
    },
    "kernelspec": {
      "name": "python3",
      "display_name": "Python 3"
    },
    "language_info": {
      "name": "python"
    }
  },
  "cells": [
    {
      "cell_type": "markdown",
      "metadata": {
        "id": "view-in-github",
        "colab_type": "text"
      },
      "source": [
        "<a href=\"https://colab.research.google.com/github/Amleth7/Talleres-Fundamentos-Python/blob/main/Ejercicio7.ipynb\" target=\"_parent\"><img src=\"https://colab.research.google.com/assets/colab-badge.svg\" alt=\"Open In Colab\"/></a>"
      ]
    },
    {
      "cell_type": "code",
      "execution_count": null,
      "metadata": {
        "id": "ItHxjVhCpcEz"
      },
      "outputs": [],
      "source": [
        "cadenaoriginal = input(\"Ingresa una cadena de caracteres: \")\n",
        "\n",
        "\n",
        "cadenainvertida = \"\"\n",
        "\n",
        "\n",
        "for i in range(len(cadenaoriginal) - 1, -1, -1):\n",
        "    cadenainvertida += cadenaoriginal[i]\n",
        "\n",
        "\n",
        "print(\"Cadena original:\", cadenaoriginal)\n",
        "print(\"Cadena invertida:\", cadenainvertida)"
      ]
    }
  ]
}