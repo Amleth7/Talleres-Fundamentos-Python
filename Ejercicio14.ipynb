{
  "nbformat": 4,
  "nbformat_minor": 0,
  "metadata": {
    "colab": {
      "provenance": [],
      "authorship_tag": "ABX9TyMQYlKhf6n1qkB87e0EAogN",
      "include_colab_link": true
    },
    "kernelspec": {
      "name": "python3",
      "display_name": "Python 3"
    },
    "language_info": {
      "name": "python"
    }
  },
  "cells": [
    {
      "cell_type": "markdown",
      "metadata": {
        "id": "view-in-github",
        "colab_type": "text"
      },
      "source": [
        "<a href=\"https://colab.research.google.com/github/Amleth7/Talleres-Fundamentos-Python/blob/main/Ejercicio14.ipynb\" target=\"_parent\"><img src=\"https://colab.research.google.com/assets/colab-badge.svg\" alt=\"Open In Colab\"/></a>"
      ]
    },
    {
      "cell_type": "code",
      "execution_count": 1,
      "metadata": {
        "colab": {
          "base_uri": "https://localhost:8080/"
        },
        "id": "2KLwTZNoC403",
        "outputId": "2dc9faf3-aca1-42f8-9d15-38d0a26bf6aa"
      },
      "outputs": [
        {
          "output_type": "stream",
          "name": "stdout",
          "text": [
            "Ingrese la cantidad de matrices que desea sumar: 2\n",
            "Ingrese la cantidad de filas de las matrices: 2\n",
            "Ingrese la cantidad de columnas de las matrices: 2\n",
            "Ingrese los elementos de la matriz 1:\n",
            "Ingrese el elemento en la posición [1][1]: 1\n",
            "Ingrese el elemento en la posición [1][2]: 2\n",
            "Ingrese el elemento en la posición [2][1]: 2\n",
            "Ingrese el elemento en la posición [2][2]: 1\n",
            "Ingrese los elementos de la matriz 2:\n",
            "Ingrese el elemento en la posición [1][1]: 3\n",
            "Ingrese el elemento en la posición [1][2]: 3\n",
            "Ingrese el elemento en la posición [2][1]: 4\n",
            "Ingrese el elemento en la posición [2][2]: 4\n",
            "Matriz 1:\n",
            "4\t5\t\n",
            "6\t5\t\n",
            "+\n",
            "Matriz 2:\n",
            "3\t3\t\n",
            "4\t4\t\n",
            "=\n",
            "Matriz Resultado:\n",
            "4\t5\t\n",
            "6\t5\t\n"
          ]
        }
      ],
      "source": [
        "# Alejandro Marin\n",
        "# Daniel Buelvas\n",
        "def ingresar_matriz(filas, columnas, nombre_matriz):\n",
        "    matriz = []\n",
        "    print(f\"Ingrese los elementos de la matriz {nombre_matriz}:\")\n",
        "    for i in range(filas):\n",
        "        fila = []\n",
        "        for j in range(columnas):\n",
        "            valor = int(input(f\"Ingrese el elemento en la posición [{i+1}][{j+1}]: \"))\n",
        "            fila.append(valor)\n",
        "        matriz.append(fila)\n",
        "    return matriz\n",
        "\n",
        "def imprimir_matriz(matriz, nombre_matriz):\n",
        "    print(f\"Matriz {nombre_matriz}:\")\n",
        "    for fila in matriz:\n",
        "        for valor in fila:\n",
        "            print(valor, end=\"\\t\")\n",
        "        print()\n",
        "\n",
        "def sumar_matrices(matrices):\n",
        "    suma = matrices[0]\n",
        "    for matriz in matrices[1:]:\n",
        "        for i in range(len(matriz)):\n",
        "            for j in range(len(matriz[0])):\n",
        "                suma[i][j] += matriz[i][j]\n",
        "    return suma\n",
        "\n",
        "\n",
        "num_matrices = int(input(\"Ingrese la cantidad de matrices que desea sumar: \"))\n",
        "\n",
        "\n",
        "if num_matrices < 2:\n",
        "    print(\"Debe ingresar al menos dos matrices para realizar la suma.\")\n",
        "else:\n",
        "    matrices = []\n",
        "\n",
        "\n",
        "    filas = int(input(\"Ingrese la cantidad de filas de las matrices: \"))\n",
        "    columnas = int(input(\"Ingrese la cantidad de columnas de las matrices: \"))\n",
        "\n",
        "\n",
        "    for i in range(num_matrices):\n",
        "        nombre_matriz = f\"{i + 1}\"\n",
        "        matriz = ingresar_matriz(filas, columnas, nombre_matriz)\n",
        "        matrices.append(matriz)\n",
        "\n",
        "    resultado = sumar_matrices(matrices)\n",
        "\n",
        "\n",
        "    for i in range(num_matrices):\n",
        "        imprimir_matriz(matrices[i], f\"{i + 1}\")\n",
        "        if i < num_matrices - 1:\n",
        "            print(\"+\")\n",
        "        else:\n",
        "            print(\"=\")\n",
        "    imprimir_matriz(resultado, \"Resultado\")\n"
      ]
    }
  ]
}