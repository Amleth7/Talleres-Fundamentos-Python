{
  "nbformat": 4,
  "nbformat_minor": 0,
  "metadata": {
    "colab": {
      "provenance": [],
      "authorship_tag": "ABX9TyPcJGgKvxwRJWI3tuk4YaGb",
      "include_colab_link": true
    },
    "kernelspec": {
      "name": "python3",
      "display_name": "Python 3"
    },
    "language_info": {
      "name": "python"
    }
  },
  "cells": [
    {
      "cell_type": "markdown",
      "metadata": {
        "id": "view-in-github",
        "colab_type": "text"
      },
      "source": [
        "<a href=\"https://colab.research.google.com/github/Amleth7/Talleres-Fundamentos-Python/blob/main/Ejercicio4.ipynb\" target=\"_parent\"><img src=\"https://colab.research.google.com/assets/colab-badge.svg\" alt=\"Open In Colab\"/></a>"
      ]
    },
    {
      "cell_type": "code",
      "execution_count": 2,
      "metadata": {
        "colab": {
          "base_uri": "https://localhost:8080/"
        },
        "id": "ke5njh1T8QR-",
        "outputId": "9985a50e-872d-44f2-c7d1-21213e7f9bef"
      },
      "outputs": [
        {
          "output_type": "stream",
          "name": "stdout",
          "text": [
            "Operaciones disponibles:\n",
            "1. Suma\n",
            "2. Resta\n",
            "3. Multiplicación\n",
            "4. División\n",
            "5. División Entera\n",
            "6. Exponente\n",
            "7. Módulo\n",
            "8. Salir\n",
            "Seleccione una operación (1-8): 7\n",
            "Ingrese el primer valor: 520\n",
            "Ingrese el segundo valor: 300\n",
            "El resultado es: 220.0\n",
            "Operaciones disponibles:\n",
            "1. Suma\n",
            "2. Resta\n",
            "3. Multiplicación\n",
            "4. División\n",
            "5. División Entera\n",
            "6. Exponente\n",
            "7. Módulo\n",
            "8. Salir\n",
            "Seleccione una operación (1-8): 5\n",
            "Ingrese el primer valor: 50\n",
            "Ingrese el segundo valor: 20\n",
            "El resultado es: 222.0\n",
            "Operaciones disponibles:\n",
            "1. Suma\n",
            "2. Resta\n",
            "3. Multiplicación\n",
            "4. División\n",
            "5. División Entera\n",
            "6. Exponente\n",
            "7. Módulo\n",
            "8. Salir\n",
            "Seleccione una operación (1-8): 8\n",
            "¡Hasta luego!\n"
          ]
        }
      ],
      "source": [
        "#Alejandro Marin\n",
        "#Daniel Buelvas\n",
        "def menu():\n",
        "    print(\"Operaciones disponibles:\")\n",
        "    print(\"1. Suma\")\n",
        "    print(\"2. Resta\")\n",
        "    print(\"3. Multiplicación\")\n",
        "    print(\"4. División\")\n",
        "    print(\"5. División Entera\")\n",
        "    print(\"6. Exponente\")\n",
        "    print(\"7. Módulo\")\n",
        "    print(\"8. Salir\")\n",
        "\n",
        "numero = 0\n",
        "\n",
        "while True:\n",
        "    menu()\n",
        "    opcion = int(input(\"Seleccione una operación (1-8): \"))\n",
        "\n",
        "    if opcion == 8:\n",
        "        print(\"¡Hasta luego!\")\n",
        "        break\n",
        "\n",
        "    valor1 = float(input(\"Ingrese el primer valor: \"))\n",
        "    valor2 = float(input(\"Ingrese el segundo valor: \"))\n",
        "\n",
        "    if opcion == 1:\n",
        "        numero = numero + valor1 + valor2\n",
        "    elif opcion == 2:\n",
        "        numero = numero + valor1 - valor2\n",
        "    elif opcion == 3:\n",
        "        numero = numero + valor1 * valor2\n",
        "    elif opcion == 4:\n",
        "        if valor2 != 0:\n",
        "            numero = numero + valor1 / valor2\n",
        "        else:\n",
        "            print(\"Error: División por cero\")\n",
        "    elif opcion == 5:\n",
        "        if valor2 != 0:\n",
        "            numero = numero + valor1 // valor2\n",
        "        else:\n",
        "            print(\"Error: División por cero\")\n",
        "    elif opcion == 6:\n",
        "        numero = numero + valor1 ** valor2\n",
        "    elif opcion == 7:\n",
        "        if valor2 != 0:\n",
        "            numero = numero + valor1 % valor2\n",
        "        else:\n",
        "            print(\"Error: División por cero\")\n",
        "    else:\n",
        "        print(\"Opción no válida\")\n",
        "\n",
        "    print(\"El resultado es:\", numero)"
      ]
    }
  ]
}